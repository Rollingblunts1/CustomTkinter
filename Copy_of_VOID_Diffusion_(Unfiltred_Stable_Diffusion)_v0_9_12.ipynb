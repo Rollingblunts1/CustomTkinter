{
  "cells": [
    {
      "cell_type": "markdown",
      "metadata": {
        "id": "view-in-github",
        "colab_type": "text"
      },
      "source": [
        "<a href=\"https://colab.research.google.com/github/Rollingblunts1/CustomTkinter/blob/master/Copy_of_VOID_Diffusion_(Unfiltred_Stable_Diffusion)_v0_9_12.ipynb\" target=\"_parent\"><img src=\"https://colab.research.google.com/assets/colab-badge.svg\" alt=\"Open In Colab\"/></a>"
      ]
    },
    {
      "cell_type": "markdown",
      "metadata": {
        "id": "Op4y0DYUozUa"
      },
      "source": [
        "#<font color=\"#943fd9\">VOID Diffusion (Unfiltred Stable Diffusion)</font>&nbsp;<small>**v0.9.12**</small><br>\n",
        "\n",
        "---\n",
        "Latest version: https://voidops.com/diffusion\n",
        "\n",
        "Discord: https://discord.gg/yYEaTwuWFZ\n",
        "\n",
        "Contact: `Beyondo#0130` or beyondo@voidops.com\n",
        "\n",
        "\n",
        "<img width=\"512\" src=\"https://user-images.githubusercontent.com/58893646/210701459-57d923b3-1e60-40bc-bb67-0975107ce97f.png\"></img>\n",
        "\n",
        "\n",
        "🤗 If you feel like it, you can always <a href=\"https://www.buymeacoffee.com/voidops\" target=\"_blank\">buy me a coffee</a>\n",
        "\n",
        "❤️ Please star the project here: https://github.com/Beyondo/void-diffusion\n",
        "\n",
        "Warning: NSFW filter is disabled in all models.\n",
        "\n",
        "---\n",
        "Wanna make ChatGPT your puppet? Check out [VOID Chat](https://beta.void.chat/) where you get god-like AI powers that were only meant for OpenAI devs, all for free. With features like subprompts, AI message editing, no moderation blocking, and more. Just install the [VOIDSync browser extension](https://chrome.google.com/webstore/detail/voidsync/hepncmhgcndbojaecbafenjpgkdpikfl) to connect VOID Chat to your currently logged-in ChatGPT account in the browser.\n",
        "\n",
        "Take for example the subprompt \"You are a zombie.\" using the agent ChaosGPT:\n",
        "\n",
        "<img width=\"768\" src=\"https://cdn.discordapp.com/attachments/1122295037775073351/1157365690391605420/image.png\"></img>\n",
        "\n",
        "Unlike the image above, it is better to hover over the AI's output and edit its interactions to begin with a keyword like \"Zombie:\", \"Human:\" or \"John:\" for better enforced results.\n",
        "\n",
        "Keep in mind: It's a \"use at your own risk\" deal. Using an alt account is a smart move to avoid potential bans. It bypasses moderation blocking and moderation flags for input, but it does not bypass moderation for output.\n",
        "\n",
        "So, VOID Chat itself won't get you banned; it's all about what you generate with it. So use it wisely and have fun!"
      ]
    },
    {
      "cell_type": "markdown",
      "metadata": {
        "id": "dlCfry3FwptG"
      },
      "source": [
        "# <font color=\"white\">Setup <small><small><small><small>(Click on arrow to select models or enable inpainting, and other settings)</small></small></small></small></font>"
      ]
    },
    {
      "cell_type": "code",
      "execution_count": null,
      "metadata": {
        "cellView": "form",
        "id": "CI6bulmf2jqV"
      },
      "outputs": [],
      "source": [
        "#@title <font color=\"orange\">Install Engine</font>\n",
        "#@markdown Google Drive Settings\n",
        "SaveToGoogleDrive = True #@param {type:\"boolean\"}\n",
        "SaveDiffusionSettings = True #@param {type:\"boolean\"}\n",
        "Directory = \"VOID/AI-Gen\" #@param {type:\"string\"}\n",
        "DevMode = False\n",
        "Latest = True\n",
        "Version = \"v0.9.12\"\n",
        "import os, shutil\n",
        "from IPython import get_ipython\n",
        "try:\n",
        "  # GDrive\n",
        "  ShouldSaveToGoogleDrive = False\n",
        "  if SaveToGoogleDrive:\n",
        "    from google.colab import drive\n",
        "    if not os.path.exists(\"/content/gdrive/MyDrive\"):\n",
        "      drive.mount('/content/gdrive', force_remount=True)\n",
        "    ShouldSaveToGoogleDrive = True\n",
        "  # Clone repo\n",
        "  if os.path.exists(\"/content/\"):\n",
        "      # In colab\n",
        "      if os.path.exists(\"/content/void-diffusion\"):\n",
        "          shutil.rmtree('/content/void-diffusion')\n",
        "      os.makedirs('/content/void-diffusion')\n",
        "      os.chdir(\"/content/void-diffusion\")\n",
        "      if DevMode:\n",
        "        print(\"Cloning an unstable version -> \", end=\"\")\n",
        "        get_ipython().system(\"git clone https://github.com/Beyondo/void-diffusion.git . &> /dev/null\")\n",
        "      else:\n",
        "        print(\"Updating from Beyondo/void-diffusion (%s) -> \" % Version, end=\"\")\n",
        "        get_ipython().system(\"git clone --depth 1 --branch %s https://github.com/Beyondo/void-diffusion.git . &> /dev/null\" % Version)\n",
        "      print(\"Done.\")\n",
        "      try: os.chdir(\"/content/void-diffusion\")\n",
        "      except: print(\"Couldn't clone the repository. You sure that version exists?\")\n",
        "  try:\n",
        "    import env\n",
        "    env.install_vendors()\n",
        "    from legacy import colab\n",
        "    import importlib, datetime\n",
        "    from IPython import display\n",
        "    from IPython.display import HTML\n",
        "    importlib.reload(colab)\n",
        "    colab.save_directory = Directory\n",
        "    colab.save_settings = SaveDiffusionSettings\n",
        "    try:\n",
        "      # Log\n",
        "      display.display(HTML(\"<strong><span style='color: green'>Last saved at %s</span></strong>\" % datetime.datetime.now().strftime(\"%H:%M\")))\n",
        "      if not DevMode:\n",
        "        import requests\n",
        "        repo_url = \"https://api.github.com/repos/Beyondo/void-diffusion\"\n",
        "        response = requests.get(f\"{repo_url}/releases/latest\")\n",
        "        if response.status_code == 200:\n",
        "            data = response.json()\n",
        "            latest_tag = data[\"tag_name\"]\n",
        "            if latest_tag != Version:\n",
        "                Latest = False\n",
        "                print(f\"You are using an older version {Version}. Update to the latest version {latest_tag} from here https://voidops.com/diffusion\")\n",
        "            else:\n",
        "                print(f\"You are using the latest version {latest_tag}\")\n",
        "        else:\n",
        "            print(\"Error getting the latest release tag from GitHub\")\n",
        "\n",
        "    except Exception as e: print(e)\n",
        "  except Exception as e: print(e)\n",
        "except KeyboardInterrupt:\n",
        "  print(\"You've manually interrupted the Engine installation.\")\n",
        "except Exception as e:\n",
        "  print(e)"
      ]
    },
    {
      "cell_type": "markdown",
      "metadata": {
        "id": "yYQBf25vGLSM"
      },
      "source": [
        "## <font color=\"cyan\">Model Selector</font>\n",
        "---\n",
        "Model | Type | Prompt accuracy | Quality | NSFW\n",
        "--- | --- | --- | --- | ---\n",
        "runwayml/stable-diffusion-v1-5 | <font color=\"orange\">General</font> | ? | 8 | 7 | Yes | Yes|\n",
        "CompVis/stable-diffusion-v1-4 | <font color=\"orange\">General</font> | ? | 7 | 7\n",
        "stabilityai/stable-diffusion-2-1 | <font color=\"orange\">General</font> | ? | 6 | 0\n",
        "SG161222/Realistic_Vision_V2.0 | <font color=\"#C569FF\">Realistic <font color =\"red\"><small>(need prompting)</small></font> </font> | ? | 10 | 9\n",
        "darkstorm2150/Protogen_x3.4_Official_Release | <font color=\"cyan\">Photorealistic</font>, <font color=\"#A169FF\">Artistic</font> | ? | 9 | 9\n",
        "prompthero/openjourney | <font color=\"#A169FF\">Artistic</font> | ? | 8 | 7\n",
        "naclbit/trinart_stable_diffusion_v2 | <font color=\"#A169FF\">Artistic</font>, <font color=\"#C569FF\">Anime</font> | ? | 7 | 8\n",
        "hakurei/waifu-diffusion | <font color=\"#C569FF\">Anime</font> | ? | 8 | 8\n",
        "runwayml/stable-diffusion-inpainting | 512x512 Inpainting | ? | ? | ?\n"
      ]
    },
    {
      "cell_type": "code",
      "execution_count": null,
      "metadata": {
        "cellView": "form",
        "id": "M7a4MrTJ3gzg"
      },
      "outputs": [],
      "source": [
        "Model = \"\" #@param [\"runwayml/stable-diffusion-v1-5\", \"CompVis/stable-diffusion-v1-4\", \"stabilityai/stable-diffusion-2-1\", \"SG161222/Realistic_Vision_V2.0\", \"darkstorm2150/Protogen_x3.4_Official_Release\", \"prompthero/openjourney\", \"naclbit/trinart_stable_diffusion_v2\", \"hakurei/waifu-diffusion\"] {allow-input: true}\n",
        "#@markdown <small>You can input a Huggingface model ID or path or select one from the dropdown.<br>Additionally, you can also enter the path or the GDrive URL of a `.ckpt` file.<br>Example 1: /content/gdrive/MyDrive/MyModels/someCheckpoint.ckpt.<br>Example 2: https://drive.google.com/file/d/1-gPNfkD4AaJ3ZlMS-B9nqcnBNGIa7URa (Note that GDrive URL downloads are limited and should be for personal use only)</small>\n",
        "#@markdown ***\n",
        "UseInpainting = False #@param {type:\"boolean\"}\n",
        "InpaintingModel = \"runwayml/stable-diffusion-inpainting\" #@param [\"runwayml/stable-diffusion-inpainting\"] {allow-input: true}\n",
        "#@markdown ***\n",
        "\n",
        "import gdown, re, os\n",
        "\n",
        "def get_first_chkpt_file(directory):\n",
        "    for filename in os.listdir(directory):\n",
        "        if filename.endswith(\".ckpt\"):\n",
        "            return os.path.join(directory, filename)\n",
        "\n",
        "    # If no .chkpt file is found\n",
        "    return None\n",
        "\n",
        "if \"drive.google.com\" in Model:\n",
        "    matched = re.search(r\"/d/([a-zA-Z0-9_-]+)\", Model)\n",
        "    if matched:\n",
        "        file_id = matched.group(1)\n",
        "        output = file_id + \"/\"\n",
        "        gdown.download(id=file_id, output=output, quiet=False)\n",
        "        first_chkpt_file = get_first_chkpt_file(output)\n",
        "        if first_chkpt_file == None:\n",
        "            print(\"The downloaded file was not a .ckpt.\")\n",
        "        else:\n",
        "            Model = first_chkpt_file\n",
        "            print(f\"\\nNow locking {Model}!\")\n",
        "    else:\n",
        "        print(\"Could not download the ckpt from Google Drive.\")\n",
        "\n",
        "import importlib, os, shutil\n",
        "try:\n",
        "  from legacy import colab\n",
        "  try: colab.init(ModelName=Model, InpaintingModel=InpaintingModel if UseInpainting else None)\n",
        "  except Exception as e:\n",
        "      print(\"Error initializing model: \", end=\"\")\n",
        "      print(e)\n",
        "except: print(\"Please play the settings first.\")"
      ]
    },
    {
      "cell_type": "markdown",
      "metadata": {
        "id": "-Vk3VZpgS8CD"
      },
      "source": [
        "# <font color=\"#F03000\">Text To Image</font>"
      ]
    },
    {
      "cell_type": "code",
      "execution_count": null,
      "metadata": {
        "cellView": "form",
        "id": "JY52fWzqTDmK"
      },
      "outputs": [],
      "source": [
        "try:\n",
        "  from legacy import colab, text2img\n",
        "  import importlib, os, shutil\n",
        "  if colab.ready:\n",
        "    importlib.reload(text2img)\n",
        "    Seed = 0 #@param {type:\"number\"}\n",
        "    if Seed == None: Seed = 0\n",
        "    Width = \"512\" #@param [128, 256, 384, 448, 512, 576, 640, 704, 768, 832, 896, 960, 1024]\n",
        "    Height = \"512\" #@param [128, 256, 384, 448, 512, 576, 640, 704, 768, 832, 896, 960, 1024]\n",
        "    Prompt = \"RAW photo, a close up portrait photo of 26 y.o woman in wastelander clothes, long haircut, pale skin, slim body, background is city ruins, (high detailed skin:1.2), 8k uhd, dslr, soft lighting, high quality, film grain, Fujifilm XT3\" #@param {type:\"string\"}\n",
        "    NegativePrompt = \"(deformed iris, deformed pupils, semi-realistic, cgi, 3d, render, sketch, cartoon, drawing, anime:1.4), text, close up, cropped, out of frame, worst quality, low quality, jpeg artifacts, ugly, duplicate, morbid, mutilated, extra fingers, mutated hands, poorly drawn hands, poorly drawn face, mutation, deformed, blurry, dehydrated, bad anatomy, bad proportions, extra limbs, cloned face, disfigured, gross proportions, malformed limbs, missing arms, missing legs, extra arms, extra legs, fused fingers, too many fingers, long neck\" #@param {type:\"string\"}\n",
        "    GuidanceScale = 13.8 #@param {type:\"slider\", min:1, max:30, step:0.1}\n",
        "    Steps = 100 #@param {type:\"slider\", min:1, max:500, step:1}\n",
        "    Iterations = 6 #@param {type:\"slider\", min:1, max:50, step:1}\n",
        "    Scheduler = \"Default\" #@param [\"Default\", \"DPMSolverMultistepScheduler\", \"LMSDiscreteScheduler\", \"EulerDiscreteScheduler\", \"PNDMScheduler\", \"DDIMScheduler\"]\n",
        "    Scale = \"2x\" #@param [\"1x\", \"2x\", \"4x\", \"8x\"]\n",
        "    PostProcessor = \"GFPGAN+Real-ESRGAN\" #@param [\"Real-ESRGAN\", \"GFPGAN+Real-ESRGAN\", \"Bicubic\"]\n",
        "    PostParallelism = 3 #@param {type:\"slider\", min:1, max:4, step:1}\n",
        "    PostReplaceResultView = True #@param {type:\"boolean\"}\n",
        "    Preview = True #@param {type:\"boolean\"}\n",
        "    colab.settings[\"Seed\"] = int(Seed)\n",
        "    colab.settings[\"Width\"] = int(Width)\n",
        "    colab.settings[\"Height\"] = int(Height)\n",
        "    colab.settings[\"Prompt\"] = Prompt\n",
        "    colab.settings[\"NegativePrompt\"] = NegativePrompt\n",
        "    colab.settings['GuidanceScale'] = float(GuidanceScale)\n",
        "    colab.settings[\"Steps\"] = Steps\n",
        "    colab.settings[\"Iterations\"] = Iterations\n",
        "    colab.settings[\"Scheduler\"] = Scheduler\n",
        "    colab.settings[\"Scale\"] = Scale\n",
        "    colab.settings[\"Upscaler\"] = PostProcessor\n",
        "    if not Latest:\n",
        "      print(\"Diffusing using an older version. Update from here https://voidops.com/diffusion\")\n",
        "    text2img.process(ShouldSave=ShouldSaveToGoogleDrive, maxNumJobs=PostParallelism, ShouldPreview=Preview, ReplaceResult=PostReplaceResultView)\n",
        "except KeyboardInterrupt:\n",
        "    print(\"Diffusion was manually interrupted.\")\n",
        "    colab.start_media_server()\n",
        "except Exception as e:\n",
        "    if DevMode: print(e)\n",
        "    colab.prepare(\"text2img\")\n",
        "#@markdown <small>**Prompt**: What you want to see</small><br>\n",
        "#@markdown <small>**NegativePrompt**: What you do NOT want to see</small><br>\n",
        "#@markdown <small>**Iterations**: Number of images you want to generate per prompt</small><br>\n",
        "#@markdown <small>**PostParallelism**: The number of post jobs that run in parllel. Decrease if you're getting \"Scaling failed\" errors</small><br>\n",
        "#@markdown <i><small>**Misconception**: The frames in progress preview **are not the same** as the images generated from lower inference steps</small></i><br>\n",
        "#@markdown <i><small>**Note**: Using a resolution of 1024x1024 would cause scaling to fail ~90% of the time.</small></i>\n",
        "#@markdown ***"
      ]
    },
    {
      "cell_type": "markdown",
      "metadata": {
        "id": "M2uwtowwGVIM"
      },
      "source": [
        "# <font color=\"#F03000\">Image To Image</font>"
      ]
    },
    {
      "cell_type": "markdown",
      "metadata": {
        "id": "SxecriWqMvlc"
      },
      "source": [
        "<img width=\"512\" src=\"https://cdn.discordapp.com/attachments/1051968627114512455/1061881263977398282/image.png\"></img><br>\n",
        "<small>The image above is a demonstration of how you can enhance and add details to your own art just by adjusting the strength, guidance, and steps carefully.</small>"
      ]
    },
    {
      "cell_type": "code",
      "execution_count": null,
      "metadata": {
        "cellView": "form",
        "id": "A086RX-EGZzO"
      },
      "outputs": [],
      "source": [
        "try:\n",
        "  from legacy import colab, img2img\n",
        "  import importlib, os, shutil\n",
        "  if colab.ready:\n",
        "    importlib.reload(img2img)\n",
        "    Seed = 0 #@param {type:\"number\"}\n",
        "    if Seed == None: Seed = 0\n",
        "    Width = \"512\" #@param [128, 256, 384, 448, 512, 576, 640, 704, 768, 832, 896, 960, 1024]\n",
        "    Height = \"512\" #@param [128, 256, 384, 448, 512, 576, 640, 704, 768, 832, 896, 960, 1024]\n",
        "    InitialImageURL = \"https://raw.githubusercontent.com/CompVis/stable-diffusion/main/assets/stable-samples/img2img/sketch-mountains-input.jpg\" #@param {type:\"string\"}\n",
        "    UseLastImageOutputAsInitialImage = False #@param {type:\"boolean\"}\n",
        "    Prompt = \"A fantasy landscape with a blue river between a desert on the left and grass on the right at night, trending on artstation\" #@param {type:\"string\"}\n",
        "    NegativePrompt = \"boring, simple, morning\" #@param {type:\"string\"}\n",
        "    Strength = 0.75 #@param {type:\"slider\", min:0, max:1, step:0.01}\n",
        "    GuidanceScale = 20 #@param {type:\"slider\", min:0, max:30, step:0.1}\n",
        "    Steps = 100 #@param {type:\"slider\", min:1, max:500, step:1}\n",
        "    Iterations = 6 #@param {type:\"slider\", min:1, max:50, step:1}\n",
        "    Scheduler = \"Default\" #@param [\"Default\", \"DPMSolverMultistepScheduler\", \"LMSDiscreteScheduler\", \"EulerDiscreteScheduler\", \"PNDMScheduler\", \"DDIMScheduler\"]\n",
        "    Scale = \"2x\" #@param [\"1x\", \"2x\", \"4x\", \"8x\"]\n",
        "    PostProcessor = \"Real-ESRGAN\" #@param [\"Real-ESRGAN\", \"GFPGAN+Real-ESRGAN\", \"Bicubic\"]\n",
        "    PostParallelism = 2 #@param {type:\"slider\", min:1, max:4, step:1}\n",
        "    PostReplaceResultView = False #@param {type:\"boolean\"}\n",
        "    Preview = True #@param {type:\"boolean\"}\n",
        "    colab.settings[\"Seed\"] = int(Seed)\n",
        "    colab.settings[\"Width\"] = int(Width)\n",
        "    colab.settings[\"Height\"] = int(Height)\n",
        "    colab.settings[\"Prompt\"] = Prompt\n",
        "    colab.settings[\"NegativePrompt\"] = NegativePrompt\n",
        "    colab.settings['GuidanceScale'] = float(GuidanceScale)\n",
        "    colab.settings[\"Strength\"] = Strength\n",
        "    colab.settings[\"InitialImageURL\"] = InitialImageURL\n",
        "    colab.settings[\"Steps\"] = Steps\n",
        "    colab.settings[\"Iterations\"] = Iterations\n",
        "    colab.settings[\"Scheduler\"] = Scheduler\n",
        "    colab.settings[\"Scale\"] = Scale\n",
        "    colab.settings[\"Upscaler\"] = PostProcessor\n",
        "    colab.settings['UseLastOutputAsInitialImage'] = UseLastImageOutputAsInitialImage\n",
        "    if not Latest:\n",
        "      print(\"Diffusing using an older version. Update from here https://voidops.com/diffusion\")\n",
        "    img2img.process(ShouldSave=ShouldSaveToGoogleDrive, maxNumJobs=PostParallelism, ShouldPreview=Preview, ReplaceResult=PostReplaceResultView)\n",
        "except KeyboardInterrupt:\n",
        "    print(\"Diffusion was manually interrupted.\")\n",
        "    colab.start_media_server()\n",
        "except Exception as e:\n",
        "  if DevMode:\n",
        "    print(e)\n",
        "  colab.prepare(\"img2img\")\n",
        "#@markdown <small>**Strength**: Controls how much the model should follow the prompt versus the init image. A value of 0 means that the model will ignore the prompt while a value of 1 means that the model will only follow the prompt.</small><br>\n",
        "#@markdown ***\n",
        "#@markdown <small>**InitialImageURL**: Use an uploading service like send them to yourself in discord DM then copy your image's URL here.</small><br>\n",
        "#@markdown ***\n",
        "#@markdown <small>**PostParallelism**: The number of post jobs that run in parllel. Decrease if you're getting \"Scaling failed\" errors.</small><br>\n",
        "#@markdown ***\n",
        "#@markdown <small>**UseLastImageOutputAsInitialImage**: Automatically use the last output.</small><br>\n",
        "#@markdown ***"
      ]
    },
    {
      "cell_type": "markdown",
      "metadata": {
        "id": "P66-EtjKi-Sr"
      },
      "source": [
        "  # <font color=\"#F03000\">Inpainting</font>"
      ]
    },
    {
      "cell_type": "code",
      "execution_count": null,
      "metadata": {
        "cellView": "form",
        "colab": {
          "background_save": true
        },
        "id": "rHN_czIDi-Sx"
      },
      "outputs": [],
      "source": [
        "try:\n",
        "  from legacy import colab, inpaint\n",
        "  import importlib, os, shutil\n",
        "  if colab.ready:\n",
        "    importlib.reload(inpaint)\n",
        "    #@markdown <b>Prompt</b> is what you want to see, while <b>NegativePrompt</b> is the opposite.\n",
        "    Seed = 0 #@param {type:\"number\"}\n",
        "    if Seed == None: Seed = 0\n",
        "    UseLastImageOutputAsInitialImage = False #@param {type:\"boolean\"}\n",
        "    InitialImageURL = \"https://replicate.delivery/pbxt/HtGQBfA5TrqFYZBf0UL18NTqHrzt8UiSIsAkUuMHtjvFDO6p/overture-creations-5sI6fQgYIuo.png\" #@param {type:\"string\"}\n",
        "    MaskImageURL = \"https://replicate.delivery/pbxt/HtGQBqO9MtVbPm0G0K43nsvvjBB0E0PaWOhuNRrRBBT4ttbf/mask.png\" #@param {type:\"string\"}\n",
        "    Prompt = \"Delicious big cake, chocolate, vanilla, caramelle, on a park bench, , g\\xE2teau\" #@param {type:\"string\"}\n",
        "    NegativePrompt = \"\" #@param {type:\"string\"}\n",
        "    #Strength = 0.75 #@param {type:\"slider\", min:0, max:1, step:0.01}\n",
        "    GuidanceScale = 30 #@param {type:\"slider\", min:0, max:30, step:0.1}\n",
        "    Steps = 60 #@param {type:\"slider\", min:1, max:500, step:1}\n",
        "    Iterations = 6 #@param {type:\"slider\", min:1, max:50, step:1}\n",
        "    Scheduler = \"Default\" #@param [\"Default\", \"DPMSolverMultistepScheduler\", \"LMSDiscreteScheduler\", \"EulerDiscreteScheduler\", \"PNDMScheduler\", \"DDIMScheduler\"]\n",
        "    Scale = \"2x\" #@param [\"1x\", \"2x\", \"4x\", \"8x\"]\n",
        "    PostProcessor = \"GFPGAN+Real-ESRGAN\" #@param [\"Real-ESRGAN\", \"GFPGAN+Real-ESRGAN\", \"Bicubic\"]\n",
        "    PostParallelism = 2 #@param {type:\"slider\", min:1, max:4, step:1}\n",
        "    PostReplaceResultView = False #@param {type:\"boolean\"}\n",
        "    Preview = True #@param {type:\"boolean\"}\n",
        "    colab.settings[\"Seed\"] = int(Seed)\n",
        "    colab.settings[\"Prompt\"] = Prompt\n",
        "    colab.settings[\"NegativePrompt\"] = NegativePrompt\n",
        "    colab.settings['GuidanceScale'] = float(GuidanceScale)\n",
        "    #colab.settings[\"Strength\"] = Strength\n",
        "    colab.settings[\"InitialImageURL\"] = InitialImageURL\n",
        "    colab.settings[\"MaskImageURL\"] = MaskImageURL\n",
        "    colab.settings[\"Steps\"] = Steps\n",
        "    colab.settings[\"Iterations\"] = Iterations\n",
        "    colab.settings[\"Scheduler\"] = Scheduler\n",
        "    colab.settings[\"Scale\"] = Scale\n",
        "    colab.settings[\"Upscaler\"] = PostProcessor\n",
        "    colab.settings['UseLastOutputAsInitialImage'] = UseLastImageOutputAsInitialImage\n",
        "    if not Latest:\n",
        "      print(\"Diffusing using an older version. Update from here https://voidops.com/diffusion\")\n",
        "    inpaint.process(ShouldSave=ShouldSaveToGoogleDrive, maxNumJobs=PostParallelism, ShouldPreview=Preview, ReplaceResult=PostReplaceResultView)\n",
        "except KeyboardInterrupt:\n",
        "    print(\"Diffusion was manually interrupted.\")\n",
        "    colab.start_media_server()\n",
        "except: colab.prepare(\"inpaint\")\n",
        "#@markdown ***\n",
        "#@markdown <small>**PostParallelism**: The number of post jobs that run in parllel. Decrease if you're getting \"Scaling failed\" errors.</small><br>\n",
        "#@markdown <small>**MaskImageURL**: You need to draw a mask on the image. Black colour for unchanging parts while white color for changing parts.</small><br>"
      ]
    },
    {
      "cell_type": "markdown",
      "metadata": {
        "id": "DkuPB-ffNdUr"
      },
      "source": [
        "# Restart the image server <small><small><small>*(in case crashed)*</small></small></small>"
      ]
    },
    {
      "cell_type": "code",
      "execution_count": null,
      "metadata": {
        "id": "-BmHdkOgMD4p"
      },
      "outputs": [],
      "source": [
        "try:\n",
        "  from google.colab.output import eval_js\n",
        "  from legacy import colab; colab.start_media_server()\n",
        "  print(\"All of your images are here: %s\" % eval_js(\"google.colab.kernel.proxyPort(8000)\"))\n",
        "except: print(\"Setup first.\")"
      ]
    },
    {
      "cell_type": "markdown",
      "metadata": {
        "id": "4QT9pURtT8sC"
      },
      "source": [
        "# <font color=\"#fc03a1\">Model Manager</font>"
      ]
    },
    {
      "cell_type": "code",
      "execution_count": null,
      "metadata": {
        "cellView": "form",
        "id": "GL6ldeLrTO7u"
      },
      "outputs": [],
      "source": [
        "#@title Save the model to Google Drive <small><small>(HuggingFace's compatible / Diffusers)</small></small>\n",
        "#@markdown **Useful for**<br><small>- Loading your model faster.<br>- If you trained the model yourself, you'd be able to upload it to HuggingFace and share it.</small><br>\n",
        "ModelName = \"MyModel\" #@param {type:\"string\"}\n",
        "GDriveDirectory = \"VOID/Models\" #@param {type:\"string\"}\n",
        "\n",
        "save_dir = f\"/content/gdrive/MyDrive/{GDriveDirectory}/{ModelName}\"\n",
        "print(save_dir)\n",
        "import os\n",
        "from legacy import colab\n",
        "if os.path.exists(save_dir):\n",
        "  print(\"Sorry! That directory already exists. Try deleting it manually if you want to override it.\")\n",
        "else:\n",
        "  colab.pipeline.save_pretrained(save_dir)\n",
        "  print(f\"Your model was saved at `{save_dir}`!\")"
      ]
    },
    {
      "cell_type": "markdown",
      "metadata": {
        "id": "xjN1cLm9ZaCg"
      },
      "source": [
        "# <font color=\"orange\">Developer notes</font>\n",
        "\n",
        "**VOID Diffusion v0.9.10 -> v0.9.12 changelog:**\n",
        "```markdown\n",
        "- Fixed stuck at Fetching 0% HuggingFace issue\n",
        "- Fixed SG161222/Realistic_Vision_V2.0 not having an fp16 revision anymore\n",
        "```\n",
        "\n",
        "**VOID Diffusion v0.9.9 -> v0.9.10 changelog:**\n",
        "```markdown\n",
        "- Added a feature to save models to your Google Drive as Diffusers/HuggingFace-compatible.\n",
        "- Added the ability to load .safetensors and other binary checkpoints\n",
        "- Added support for using a shared Google Drive's URL of a checkpoint as a model\n",
        "```\n",
        "\n",
        "**VOID Diffusion v0.9.8 -> v0.9.9 changelog:**\n",
        "```markdown\n",
        "- Fixed inpainting mode not working\n",
        "- Added image generation error traceback for bug reporting\n",
        "```\n",
        "\n",
        "\n",
        "**VOID Diffusion v0.9.5 -> v0.9.8 changelog:**\n",
        "```markdown\n",
        "- Added a checkpoint (.ckpt) loader\n",
        "- Fixed minor UI issues and added a button to copy the seed\n",
        "- Included seed in image name\n",
        "```\n",
        "\n",
        "**VOID Diffusion v0.9.3 -> v0.9.5 changelog:**\n",
        "```markdown\n",
        "- Added SG161222/Realistic_Vision_V2.0 (suggested by thebirdmanjax#5038)\n",
        "- Fixed upscaling issues for some models\n",
        "- Included additional config information\n",
        "```\n",
        "**VOID Diffusion v0.9 -> v0.9.3 changelog:**\n",
        "```markdown\n",
        "- Added DPM, LMS, Euler, PNDM, DDIM schedulers\n",
        "- Added Protogen photorealistic model\n",
        "- Fix - Pausing generation will now not cause colab errors\n",
        "- Fix - Pausing generation will now not kill the image server\n",
        "- Minor memory improvements\n",
        "- Added a version checker\n",
        "```"
      ]
    }
  ],
  "metadata": {
    "accelerator": "GPU",
    "colab": {
      "collapsed_sections": [
        "dlCfry3FwptG",
        "P66-EtjKi-Sr",
        "DkuPB-ffNdUr"
      ],
      "provenance": [],
      "machine_shape": "hm",
      "gpuType": "A100",
      "include_colab_link": true
    },
    "kernelspec": {
      "display_name": "Python 3",
      "name": "python3"
    },
    "language_info": {
      "name": "python"
    }
  },
  "nbformat": 4,
  "nbformat_minor": 0
}